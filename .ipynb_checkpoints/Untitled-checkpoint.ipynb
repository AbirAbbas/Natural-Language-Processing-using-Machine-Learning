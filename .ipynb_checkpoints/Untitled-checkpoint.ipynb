{
 "cells": [
  {
   "cell_type": "code",
   "execution_count": 1,
   "metadata": {},
   "outputs": [],
   "source": [
    "#read from files and create a dataframe of data\n",
    "\n",
    "import glob\n",
    "import pandas as pd\n",
    "import string\n",
    "import re\n",
    "from nltk.corpus import stopwords\n",
    "from nltk.tokenize import WordPunctTokenizer\n",
    "from sklearn.pipeline import Pipeline\n",
    "from sklearn.feature_extraction.text import CountVectorizer\n",
    "from sklearn.linear_model import LogisticRegression\n",
    "from sklearn.linear_model import RidgeClassifier\n",
    "from sklearn.feature_extraction.text import TfidfVectorizer\n",
    "from tqdm import tqdm\n",
    "from sklearn.model_selection import cross_val_score\n",
    "from sklearn.neighbors import NearestCentroid\n",
    "\n",
    "neg_list = glob.glob(\"./data/neg/*.txt\")\n",
    "pos_list = glob.glob(\"./data/pos/*.txt\")\n",
    "\n",
    "stop_words = set(stopwords.words('english'))\n",
    "\n",
    "doc_list = []\n",
    "\n",
    "#reading the data\n",
    "for file in neg_list:\n",
    "    file1 = open(file,\"r\").read()\n",
    "    doc_list.append([file1, 0])\n",
    "\n",
    "for file in pos_list:\n",
    "    file1 = open(file,\"r\").read()\n",
    "    doc_list.append([file1, 1])\n",
    "    \n",
    "data = pd.DataFrame(doc_list, columns = ['text' , 'sentiment']) "
   ]
  },
  {
   "cell_type": "code",
   "execution_count": 2,
   "metadata": {},
   "outputs": [],
   "source": [
    "#data set cleaner which removes punctuation, and converts everything to lower case\n",
    "\n",
    "tokenizer = WordPunctTokenizer()\n",
    "\n",
    "def clean_dataset(text):\n",
    "    lower_case = text.lower()\n",
    "    letters_only = re.sub(\"[^a-zA-Z]\", \" \", lower_case)\n",
    "    tokens = tokenizer.tokenize(letters_only)\n",
    "    return (\" \".join(tokens)).strip()"
   ]
  },
  {
   "cell_type": "code",
   "execution_count": 3,
   "metadata": {},
   "outputs": [
    {
     "name": "stderr",
     "output_type": "stream",
     "text": [
      "C:\\ProgramData\\Anaconda3\\lib\\site-packages\\tqdm\\std.py:648: FutureWarning: The Panel class is removed from pandas. Accessing it from the top-level namespace will also be removed in the next version\n",
      "  from pandas import Panel\n",
      "progress-bar: 100%|██████████████████████████████████████████████████████████████| 2000/2000 [00:01<00:00, 1529.79it/s]\n"
     ]
    }
   ],
   "source": [
    "tqdm.pandas(desc=\"progress-bar\")\n",
    "\n",
    "def post_process(data, n=1000000):\n",
    "    data = data.head(n)\n",
    "    data['text'] = data['text'].progress_map(clean_dataset)  \n",
    "    data.reset_index(inplace=True)\n",
    "    data.drop('index', inplace=True, axis=1)\n",
    "    return data\n",
    "\n",
    "data = post_process(data)"
   ]
  },
  {
   "cell_type": "code",
   "execution_count": 4,
   "metadata": {},
   "outputs": [],
   "source": [
    "#splitting our model into test_set and validation set\n",
    "from sklearn.model_selection import train_test_split\n",
    "SEED = 1234\n",
    "\n",
    "x_train, x_validate, y_train, y_validate = train_test_split(data.text, data.sentiment, test_size=0.15, random_state=SEED)"
   ]
  },
  {
   "cell_type": "code",
   "execution_count": 5,
   "metadata": {},
   "outputs": [],
   "source": [
    "#feature selecting using Count Vectorizer\n",
    "\n",
    "cv = CountVectorizer()\n",
    "cv.set_params(stop_words=stop_words, max_features=2000)\n",
    "\n",
    "#building our pipeline for count vectorizer and logistic regression\n",
    "lg_cv_pipeline = Pipeline([('vectorizer', cv), ('classifier', LogisticRegression(solver='liblinear'))])\n",
    "\n",
    "#feature selecting using Count Vectorizer\n",
    "\n",
    "tfidf = TfidfVectorizer()\n",
    "tfidf.set_params(stop_words=stop_words, max_features=2000)\n",
    "\n",
    "#building our pipeline for tfidf and logistic regression\n",
    "lg_tfidf_pipeline = Pipeline([('vectorizer', tfidf), ('classifier', LogisticRegression(solver='liblinear'))])"
   ]
  },
  {
   "cell_type": "code",
   "execution_count": 6,
   "metadata": {},
   "outputs": [],
   "source": [
    "#building our pipeline for count vectorizer and Ridge Classifier\n",
    "rc_cv_pipeline = Pipeline([('vectorizer', cv), ('classifier', RidgeClassifier())])\n",
    "#building our pipeline for tfidf and Ridge Classifier\n",
    "rc_tfidf_pipeline = Pipeline([('vectorizer', tfidf), ('classifier', RidgeClassifier())])"
   ]
  },
  {
   "cell_type": "code",
   "execution_count": 7,
   "metadata": {},
   "outputs": [
    {
     "ename": "NameError",
     "evalue": "name 'NearestCentroid' is not defined",
     "output_type": "error",
     "traceback": [
      "\u001b[1;31m---------------------------------------------------------------------------\u001b[0m",
      "\u001b[1;31mNameError\u001b[0m                                 Traceback (most recent call last)",
      "\u001b[1;32m<ipython-input-7-f546dc766af5>\u001b[0m in \u001b[0;36m<module>\u001b[1;34m\u001b[0m\n\u001b[0;32m      1\u001b[0m \u001b[1;31m#building our pipeline for count vectorizer and Nearest Centroid\u001b[0m\u001b[1;33m\u001b[0m\u001b[1;33m\u001b[0m\u001b[1;33m\u001b[0m\u001b[0m\n\u001b[1;32m----> 2\u001b[1;33m \u001b[0mnc_cv_pipeline\u001b[0m \u001b[1;33m=\u001b[0m \u001b[0mPipeline\u001b[0m\u001b[1;33m(\u001b[0m\u001b[1;33m[\u001b[0m\u001b[1;33m(\u001b[0m\u001b[1;34m'vectorizer'\u001b[0m\u001b[1;33m,\u001b[0m \u001b[0mcv\u001b[0m\u001b[1;33m)\u001b[0m\u001b[1;33m,\u001b[0m \u001b[1;33m(\u001b[0m\u001b[1;34m'classifier'\u001b[0m\u001b[1;33m,\u001b[0m \u001b[0mNearestCentroid\u001b[0m\u001b[1;33m(\u001b[0m\u001b[1;33m)\u001b[0m\u001b[1;33m)\u001b[0m\u001b[1;33m]\u001b[0m\u001b[1;33m)\u001b[0m\u001b[1;33m\u001b[0m\u001b[1;33m\u001b[0m\u001b[0m\n\u001b[0m\u001b[0;32m      3\u001b[0m \u001b[1;31m#building our pipeline for tfidf and Nearest Centroid\u001b[0m\u001b[1;33m\u001b[0m\u001b[1;33m\u001b[0m\u001b[1;33m\u001b[0m\u001b[0m\n\u001b[0;32m      4\u001b[0m \u001b[0mnc_tfidf_pipeline\u001b[0m \u001b[1;33m=\u001b[0m \u001b[0mPipeline\u001b[0m\u001b[1;33m(\u001b[0m\u001b[1;33m[\u001b[0m\u001b[1;33m(\u001b[0m\u001b[1;34m'vectorizer'\u001b[0m\u001b[1;33m,\u001b[0m \u001b[0mtfidf\u001b[0m\u001b[1;33m)\u001b[0m\u001b[1;33m,\u001b[0m \u001b[1;33m(\u001b[0m\u001b[1;34m'classifier'\u001b[0m\u001b[1;33m,\u001b[0m \u001b[0mNearestCentroid\u001b[0m\u001b[1;33m(\u001b[0m\u001b[1;33m)\u001b[0m\u001b[1;33m)\u001b[0m\u001b[1;33m]\u001b[0m\u001b[1;33m)\u001b[0m\u001b[1;33m\u001b[0m\u001b[1;33m\u001b[0m\u001b[0m\n",
      "\u001b[1;31mNameError\u001b[0m: name 'NearestCentroid' is not defined"
     ]
    }
   ],
   "source": [
    "#building our pipeline for count vectorizer and Nearest Centroid\n",
    "nc_cv_pipeline = Pipeline([('vectorizer', cv), ('classifier', NearestCentroid())])\n",
    "#building our pipeline for tfidf and Nearest Centroid\n",
    "nc_tfidf_pipeline = Pipeline([('vectorizer', tfidf), ('classifier', NearestCentroid())])"
   ]
  },
  {
   "cell_type": "code",
   "execution_count": null,
   "metadata": {},
   "outputs": [],
   "source": [
    "lgcv = cross_val_score(lg_cv_pipeline, x_train, y_train, cv=10)\n",
    "lg_tfidf= cross_val_score(lg_tfidf_pipeline, x_train, y_train, cv=10)\n",
    "rccv = cross_val_score(rc_cv_pipeline, x_train, y_train, cv=10)\n",
    "rctfidf = cross_val_score(rc_tfidf_pipeline, x_train, y_train, cv=10)\n",
    "nccv = cross_val_score(nc_cv_pipeline, x_train, y_train, cv=10)\n",
    "nctfidf = cross_val_score(nc_tfidf_pipeline, x_train, y_train, cv=10)"
   ]
  },
  {
   "cell_type": "code",
   "execution_count": null,
   "metadata": {},
   "outputs": [],
   "source": [
    "print(lgcv.mean(), lg_tfidf.mean(), rccv.mean(), rctfidf.mean(), nccv.mean(), nctfidf.mean())"
   ]
  },
  {
   "cell_type": "code",
   "execution_count": null,
   "metadata": {
    "scrolled": false
   },
   "outputs": [],
   "source": [
    "for max_features in [500, 1000, 1500, 2000, 2500, 3000]:\n",
    "    cv.set_params(stop_words=stop_words, max_features=max_features)\n",
    "    tfidf.set_params(stop_words=stop_words, max_features=max_features)\n",
    "    lg_cv_pipeline = Pipeline([('vectorizer', cv), ('classifier', LogisticRegression(solver='liblinear'))])\n",
    "    lg_tfidf_pipeline = Pipeline([('vectorizer', tfidf), ('classifier', LogisticRegression(solver='liblinear'))])\n",
    "    rc_cv_pipeline = Pipeline([('vectorizer', cv), ('classifier', RidgeClassifier())])\n",
    "    rc_tfidf_pipeline = Pipeline([('vectorizer', tfidf), ('classifier', RidgeClassifier())])\n",
    "    lgcv = cross_val_score(lg_cv_pipeline, x_train, y_train, cv=10)\n",
    "    lg_tfidf= cross_val_score(lg_tfidf_pipeline, x_train, y_train, cv=10)\n",
    "    rccv = cross_val_score(rc_cv_pipeline, x_train, y_train, cv=10)\n",
    "    rctfidf = cross_val_score(rc_tfidf_pipeline, x_train, y_train, cv=10)\n",
    "    nccv = cross_val_score(nc_cv_pipeline, x_train, y_train, cv=10)\n",
    "    nctfidf = cross_val_score(nc_tfidf_pipeline, x_train, y_train, cv=10)\n",
    "    print(max_features, lgcv.mean(), lg_tfidf.mean(), rccv.mean(), rctfidf.mean(), nccv.mean(), nctfidf.mean())\n",
    "    "
   ]
  },
  {
   "cell_type": "markdown",
   "metadata": {},
   "source": [
    "**500** &ensp;0.741764705882353 0.7858823529411765 0.7405882352941177 0.7688235294117647<br>\n",
    "**1000** 0.7911764705882354 0.8170588235294117 0.6952941176470588 0.8152941176470587<br>\n",
    "**1500** 0.7988235294117647 0.8400000000000001 0.6841176470588236 0.8305882352941175<br>\n",
    "**2000** 0.8135294117647058 0.8470588235294118 0.7311764705882353 0.8364705882352942<br>\n",
    "**2500** 0.8164705882352941 0.8441176470588235 0.7476470588235294 0.8388235294117647<br>\n",
    "**3000** 0.8123529411764705 0.8405882352941175 0.7647058823529411 0.8358823529411763<br>"
   ]
  }
 ],
 "metadata": {
  "kernelspec": {
   "display_name": "Python 3",
   "language": "python",
   "name": "python3"
  },
  "language_info": {
   "codemirror_mode": {
    "name": "ipython",
    "version": 3
   },
   "file_extension": ".py",
   "mimetype": "text/x-python",
   "name": "python",
   "nbconvert_exporter": "python",
   "pygments_lexer": "ipython3",
   "version": "3.7.4"
  }
 },
 "nbformat": 4,
 "nbformat_minor": 2
}
